{
 "cells": [
  {
   "cell_type": "code",
   "execution_count": 53,
   "id": "42a72252-a958-4c3a-888c-b24d6b0d0b9e",
   "metadata": {},
   "outputs": [],
   "source": [
    "from fastapi import FastAPI, HTTPException\n",
    "from fastapi.responses import JSONResponse\n",
    "from fastapi.middleware.cors import CORSMiddleware\n",
    "from pydantic import BaseModel\n",
    "from pred_utils import interpret_lime_results_v5, cfe_live, cf_explanations, get_data, visualize_counterfactuals_radar_plotly, visualize_counterfactuals_plotly, explain_counterfactual_percentage, generate_transaction_features, main_instance, cfe_instance\n",
    "import pandas as pd\n",
    "import joblib\n",
    "import time\n",
    "import traceback\n",
    "#from joblib import load \n",
    "X_train_ad, y_train_ad, X_train_smote, y_train_smote, X_train_stomek, y_train_stomek = get_data()"
   ]
  },
  {
   "cell_type": "code",
   "execution_count": 54,
   "id": "7285b033-7fb6-4cd8-bcee-a79d16991ae9",
   "metadata": {},
   "outputs": [],
   "source": [
    "# import pandas as pd\n",
    "# import numpy as np\n",
    "# import fraud_utils\n",
    "# from fraud_utils import *\n",
    "# import joblib \n",
    "# from joblib import load \n",
    "\n",
    "\n",
    "# if model_selection == 'Random Forest':\n",
    "#     model = joblib.load('rfc_pipline_a.pkl')    \n",
    "# elif model_selection == 'Gradient Boost':    \n",
    "#     model = joblib.load('gbc_pipline_s.pkl') \n",
    "# elif model_selection == 'Neural Network':    \n",
    "#     model = joblib.load('mlp_pipline_stm.pkl')\n",
    "# else:\n",
    "#     print('No Model selected')\n",
    "    \n",
    "rfc_pipeline = load('rfc_adasyn_pipeline.pkl')\n",
    "gbc_pipeline = load('gbc_smote_pipeline.pkl')\n",
    "mlp_pipeline = load('mlp_smotetomek_pipeline.pkl')\n",
    "gbc_pipeline1 = load('gbc_smotetomek_pipeline.pkl')\n",
    "\n",
    "User_id = 'C3562'\n",
    "transaction_type = 1\n",
    "amount = 6509\n",
    "step = 170\n",
    "oldbalanceOrg = 578\n",
    "\n",
    "\n",
    "\n",
    "\n",
    "newbalanceOrig = oldbalanceOrg + amount\n",
    "# Create DataFrame with a dictionary\n",
    "\n",
    "\n",
    "    \n",
    "df = pd.DataFrame({'step': [step], 'type': [transaction_type], 'amount': [amount], 'oldbalanceOrg': [oldbalanceOrg], 'newbalanceOrig': [newbalanceOrig]})\n",
    "\n",
    "live_df = generate_transaction_features(df)\n",
    "# Drop the 'newbalanceOrig' column\n",
    "#live_df.drop(columns='newbalanceOrig', axis=1, inplace=True)\n"
   ]
  },
  {
   "cell_type": "code",
   "execution_count": 51,
   "id": "e8119072-cd44-4f6c-bfc3-e75e0d1f9e03",
   "metadata": {},
   "outputs": [
    {
     "data": {
      "text/html": [
       "<div>\n",
       "<style scoped>\n",
       "    .dataframe tbody tr th:only-of-type {\n",
       "        vertical-align: middle;\n",
       "    }\n",
       "\n",
       "    .dataframe tbody tr th {\n",
       "        vertical-align: top;\n",
       "    }\n",
       "\n",
       "    .dataframe thead th {\n",
       "        text-align: right;\n",
       "    }\n",
       "</style>\n",
       "<table border=\"1\" class=\"dataframe\">\n",
       "  <thead>\n",
       "    <tr style=\"text-align: right;\">\n",
       "      <th></th>\n",
       "      <th>step</th>\n",
       "      <th>type</th>\n",
       "      <th>amount</th>\n",
       "      <th>oldbalanceOrg</th>\n",
       "      <th>bal_chg</th>\n",
       "      <th>orig_zero</th>\n",
       "      <th>amt_bal_ratio</th>\n",
       "      <th>chg_amt_ratio</th>\n",
       "    </tr>\n",
       "  </thead>\n",
       "  <tbody>\n",
       "    <tr>\n",
       "      <th>0</th>\n",
       "      <td>170</td>\n",
       "      <td>1</td>\n",
       "      <td>6509</td>\n",
       "      <td>578</td>\n",
       "      <td>6509</td>\n",
       "      <td>0</td>\n",
       "      <td>11.261246</td>\n",
       "      <td>1.0</td>\n",
       "    </tr>\n",
       "  </tbody>\n",
       "</table>\n",
       "</div>"
      ],
      "text/plain": [
       "   step  type  amount  oldbalanceOrg  bal_chg  orig_zero  amt_bal_ratio  \\\n",
       "0   170     1    6509            578     6509          0      11.261246   \n",
       "\n",
       "   chg_amt_ratio  \n",
       "0            1.0  "
      ]
     },
     "execution_count": 51,
     "metadata": {},
     "output_type": "execute_result"
    }
   ],
   "source": [
    "live_df"
   ]
  },
  {
   "cell_type": "code",
   "execution_count": 39,
   "id": "4aabbe60-8816-4367-bc59-ca3957b700af",
   "metadata": {},
   "outputs": [
    {
     "data": {
      "text/plain": [
       "Index(['step', 'type', 'amount', 'oldbalanceOrg', 'bal_chg', 'orig_zero',\n",
       "       'amt_bal_ratio', 'chg_amt_ratio'],\n",
       "      dtype='object')"
      ]
     },
     "execution_count": 39,
     "metadata": {},
     "output_type": "execute_result"
    }
   ],
   "source": [
    "live_df.columns"
   ]
  },
  {
   "cell_type": "code",
   "execution_count": 52,
   "id": "f963cc8b-109f-41f7-98d2-8932dc5e4792",
   "metadata": {},
   "outputs": [
    {
     "data": {
      "text/plain": [
       "1"
      ]
     },
     "execution_count": 52,
     "metadata": {},
     "output_type": "execute_result"
    }
   ],
   "source": [
    "pred = mlp_pipeline.predict(live_df)\n",
    "prediction = pred[0]\n",
    "prediction"
   ]
  },
  {
   "cell_type": "code",
   "execution_count": 41,
   "id": "22a45d85-875f-4e72-ac8d-2e22550ca0a7",
   "metadata": {},
   "outputs": [
    {
     "name": "stdout",
     "output_type": "stream",
     "text": [
      "Intercept 0.6237402976621272\n",
      "Prediction_local [0.74565439]\n",
      "Right: 0.9089398017750197\n"
     ]
    },
    {
     "data": {
      "text/plain": [
       "\"<ul><li>The feature 'chg_amt_ratio' is considered in the model's classification as 'Fraudulent'.</li><li>The feature 'bal_chg' is considered in the model's classification as 'Fraudulent'.</li><li>The feature 'orig_zero' is considered in the model's classification as 'Fraudulent'.</li><li>The feature 'amt_bal_ratio' is considered in the model's classification as 'Fraudulent'.</li><li>The feature 'oldbalanceOrg' is considered in the model's classification as 'Fraudulent'.</li><li>The feature 'amount' is considered in the model's classification as 'Fraudulent'.</li><li>The feature 'step' is considered in the model's classification as 'Fraudulent'.</li><li>The feature 'type' is not considered a significant factor in the model's classification as 'Fraudulent'.</li><li>The model considers multiple features to assess each transaction, focusing on patterns that indicate potentially fraudulent or legitimate activity.</li></ul>\""
      ]
     },
     "execution_count": 41,
     "metadata": {},
     "output_type": "execute_result"
    }
   ],
   "source": [
    "pipeline = mlp_pipeline\n",
    "X_train = X_train_ad\n",
    "live_instance = live_df\n",
    "model_name = 'RFC'\n",
    "\n",
    "interpretations = interpret_lime_results_v5(pipeline, X_train, live_instance, model_name)\n",
    "interpretations"
   ]
  },
  {
   "cell_type": "code",
   "execution_count": 42,
   "id": "5dc65b35-7f3c-4e6d-b1c1-183ec1f9517e",
   "metadata": {},
   "outputs": [
    {
     "name": "stderr",
     "output_type": "stream",
     "text": [
      "100%|██████████| 1/1 [00:01<00:00,  1.52s/it]"
     ]
    },
    {
     "name": "stdout",
     "output_type": "stream",
     "text": [
      "<p>To change the model's prediction, consider the following adjustments:</p><ul><li>Change <strong>chg_amt_ratio</strong> by -200.00% (from 1.0 to -1.0).</li></ul>\n"
     ]
    },
    {
     "name": "stderr",
     "output_type": "stream",
     "text": [
      "\n"
     ]
    }
   ],
   "source": [
    "pipeline = gbc_pipeline\n",
    "X_train = X_train_ad\n",
    "y_train = y_train_ad\n",
    "live_instance = live_df\n",
    "model_name = 'RFC'\n",
    "\n",
    "\n",
    "cf_as_dict, original_instance =  cf_explanations(pipeline, X_train, y_train, live_instance, model_name, total_CFs=1)\n",
    "narrative = explain_counterfactual_percentage(original_instance, cf_as_dict)\n",
    "#cfe = cfe_live_v4(pipeline, X_train, y_train, live_instance, model_name, total_CFs=1)\n",
    "#print(cfe)\n",
    "print(narrative)\n"
   ]
  },
  {
   "cell_type": "code",
   "execution_count": 20,
   "id": "dd0878eb-5421-4021-abba-1cbe89779eeb",
   "metadata": {},
   "outputs": [],
   "source": [
    "from typing import List\n",
    "\n",
    "def cfe_live_v4(pipeline, X_train, y_train, live_instance, model_name, total_CFs=2):\n",
    "    \"\"\"\n",
    "    Generate counterfactual explanations for a given live instance using DiCE.\n",
    "\n",
    "    Parameters:\n",
    "    - pipeline: Trained machine learning model pipeline.\n",
    "    - X_train: Training data features.\n",
    "    - y_train: Training data labels.\n",
    "    - live_instance: The live instance for which counterfactual explanations are generated.\n",
    "    - model_name: Name or identifier for the machine learning model.\n",
    "    - total_CFs: Total number of counterfactuals to generate.\n",
    "\n",
    "    Returns:\n",
    "    List[dict]: List of dictionaries representing the counterfactual explanations.\n",
    "    \"\"\"\n",
    "\n",
    "    # Prepare outcome data with labels\n",
    "    outcome_X_train = X_train.copy()\n",
    "    outcome_X_train['isFraud'] = y_train\n",
    "\n",
    "    # Define features for DiCE\n",
    "    features = ['step', 'type', 'amount', 'oldbalanceOrg', 'bal_chg', 'orig_zero',\n",
    "                'amt_bal_ratio', 'chg_amt_ratio']\n",
    "\n",
    "    # Create DiCE data object\n",
    "    d = dice_ml.Data(dataframe=outcome_X_train, continuous_features=features,\n",
    "                     outcome_name='isFraud')\n",
    "\n",
    "    # Create DiCE model object\n",
    "    backend = 'sklearn'\n",
    "    m = dice_ml.Model(model=pipeline, backend=backend)\n",
    "\n",
    "    # Convert live_instance to a DataFrame if it's not already\n",
    "    if not isinstance(live_instance, pd.DataFrame):\n",
    "        live_instance = pd.DataFrame([live_instance], columns=X_train.columns)\n",
    "\n",
    "    print(f\"Counterfactual Explanation for {model_name} using Random Method\")\n",
    "\n",
    "    exp_random = dice_ml.Dice(d, m, method='random')\n",
    "    dice_exp_random = exp_random.generate_counterfactuals(live_instance, total_CFs=total_CFs, desired_class=\"opposite\", verbose=False)\n",
    "\n",
    "    # Extract feature names from the DiCE data object\n",
    "    feature_names = d.feature_names\n",
    "\n",
    "    # Return the counterfactuals as a list of dictionaries with feature names\n",
    "    counterfactuals_with_names = []\n",
    "    for cf in dice_exp_random.cf_examples_list:\n",
    "        counterfactual_dict = {'feature_names': feature_names, 'feature_values': cf.final_cfs_df.iloc[0].tolist()}\n",
    "        counterfactuals_with_names.append(counterfactual_dict)\n",
    "\n",
    "    return counterfactuals_with_names\n"
   ]
  },
  {
   "cell_type": "code",
   "execution_count": 66,
   "id": "6148a883-4dde-4b90-98c0-de4e66a826f4",
   "metadata": {},
   "outputs": [
    {
     "name": "stderr",
     "output_type": "stream",
     "text": [
      "100%|██████████| 1/1 [00:02<00:00,  2.23s/it]\n"
     ]
    },
    {
     "ename": "AttributeError",
     "evalue": "'list' object has no attribute 'get'",
     "output_type": "error",
     "traceback": [
      "\u001b[1;31m---------------------------------------------------------------------------\u001b[0m",
      "\u001b[1;31mAttributeError\u001b[0m                            Traceback (most recent call last)",
      "Cell \u001b[1;32mIn[66], line 8\u001b[0m\n\u001b[0;32m      5\u001b[0m model_name \u001b[38;5;241m=\u001b[39m \u001b[38;5;124m'\u001b[39m\u001b[38;5;124mRFC\u001b[39m\u001b[38;5;124m'\u001b[39m\n\u001b[0;32m      7\u001b[0m cf_as_dict, original_instance \u001b[38;5;241m=\u001b[39m  cf_explanations(pipeline, X_train, y_train, live_instance, model_name, total_CFs\u001b[38;5;241m=\u001b[39m\u001b[38;5;241m1\u001b[39m)\n\u001b[1;32m----> 8\u001b[0m main_1 \u001b[38;5;241m=\u001b[39m main_instance(cf_as_dict, prediction, model_name)\n\u001b[0;32m      9\u001b[0m cfe_1 \u001b[38;5;241m=\u001b[39m cfe_instance(original_instance, prediction)\n\u001b[0;32m     10\u001b[0m \u001b[38;5;28mprint\u001b[39m(main_1)\n",
      "File \u001b[1;32m~\\Desktop\\Dissertation\\XAI\\data\\model\\finfraud\\api\\pred_utils.py:705\u001b[0m, in \u001b[0;36mmain_instance\u001b[1;34m(cf_as_dict, prediction, model_name)\u001b[0m\n\u001b[0;32m    702\u001b[0m message1 \u001b[38;5;241m=\u001b[39m \u001b[38;5;124mf\u001b[39m\u001b[38;5;124m'\u001b[39m\u001b[38;5;124m<p><b>Counterfactual Explanation for \u001b[39m\u001b[38;5;132;01m{\u001b[39;00mmodel_name\u001b[38;5;132;01m}\u001b[39;00m\u001b[38;5;124m</b></p>\u001b[39m\u001b[38;5;124m'\u001b[39m\n\u001b[0;32m    704\u001b[0m \u001b[38;5;66;03m# Extract data_list from cf_as_dict\u001b[39;00m\n\u001b[1;32m--> 705\u001b[0m data_list \u001b[38;5;241m=\u001b[39m cf_as_dict\u001b[38;5;241m.\u001b[39mget(\u001b[38;5;241m0\u001b[39m, {})  \u001b[38;5;66;03m# Use get method to handle missing keys gracefully\u001b[39;00m\n\u001b[0;32m    707\u001b[0m message2 \u001b[38;5;241m=\u001b[39m \u001b[38;5;124mf\u001b[39m\u001b[38;5;124m'\u001b[39m\u001b[38;5;124m<p>Query instance (original outcome : \u001b[39m\u001b[38;5;132;01m{\u001b[39;00mprediction\u001b[38;5;132;01m}\u001b[39;00m\u001b[38;5;124m)</p>\u001b[39m\u001b[38;5;124m'\u001b[39m\n\u001b[0;32m    709\u001b[0m \u001b[38;5;66;03m# Create a DataFrame with the data\u001b[39;00m\n",
      "\u001b[1;31mAttributeError\u001b[0m: 'list' object has no attribute 'get'"
     ]
    }
   ],
   "source": [
    "pipeline = rfc_pipeline\n",
    "X_train = X_train_ad\n",
    "y_train = y_train_ad\n",
    "live_instance = live_df\n",
    "model_name = 'RFC'\n",
    "\n",
    "cf_as_dict, original_instance =  cf_explanations(pipeline, X_train, y_train, live_instance, model_name, total_CFs=1)\n",
    "main_1 = main_instance(cf_as_dict, prediction, model_name)\n",
    "cfe_1 = cfe_instance(original_instance, prediction)\n",
    "print(main_1)\n",
    "print(cfe_1)"
   ]
  },
  {
   "cell_type": "code",
   "execution_count": 44,
   "id": "acb1f7af-f599-41af-ac86-531b0d94ff21",
   "metadata": {},
   "outputs": [],
   "source": [
    "def cf_explanations_v1(pipeline, X_train, y_train, live_instance, model_name, total_CFs=1):\n",
    "    outcome_X_train = X_train.copy()\n",
    "    outcome_X_train['isFraud'] = y_train\n",
    "\n",
    "    continuous_features = ['step', 'amount', 'oldbalanceOrg', 'bal_chg', 'amt_bal_ratio', 'chg_amt_ratio']\n",
    "    d = dice_ml.Data(dataframe=outcome_X_train, continuous_features=continuous_features, outcome_name='isFraud')\n",
    "    m = dice_ml.Model(model=pipeline, backend='sklearn')\n",
    "\n",
    "    if not isinstance(live_instance, pd.DataFrame):\n",
    "        live_instance = pd.DataFrame([live_instance], columns=X_train.columns)\n",
    "\n",
    "    exp = dice_ml.Dice(d, m, method='random')\n",
    "    cf = exp.generate_counterfactuals(live_instance, total_CFs=total_CFs, desired_class=\"opposite\")\n",
    "\n",
    "    cf_as_dict = cf.cf_examples_list[0].final_cfs_df.drop(columns=['isFraud']).iloc[0].to_dict()\n",
    "    original_instance = live_instance.iloc[0].to_dict()\n",
    "\n",
    "    return cf_as_dict, original_instance"
   ]
  },
  {
   "cell_type": "code",
   "execution_count": 67,
   "id": "63222ac9-f2b9-4021-bd56-c416bd246b38",
   "metadata": {},
   "outputs": [
    {
     "name": "stderr",
     "output_type": "stream",
     "text": [
      "100%|██████████| 1/1 [00:02<00:00,  2.19s/it]\n"
     ]
    }
   ],
   "source": [
    "cf_as_dict, original_instance = cf_explanations_v1(pipeline, X_train, y_train, live_instance, model_name, total_CFs)\n"
   ]
  },
  {
   "cell_type": "code",
   "execution_count": 15,
   "id": "11dde7ac-90d5-4453-b475-85949da02ff1",
   "metadata": {},
   "outputs": [],
   "source": [
    "from typing import List\n",
    "\n",
    "def cfe_live_v2(pipeline, X_train, y_train, live_instance, model_name, total_CFs=1):\n",
    "    \"\"\"\n",
    "    Generate counterfactual explanations for a given live instance using DiCE.\n",
    "\n",
    "    Parameters:\n",
    "    - pipeline: Trained machine learning model pipeline.\n",
    "    - X_train: Training data features.\n",
    "    - y_train: Training data labels.\n",
    "    - live_instance: The live instance for which counterfactual explanations are generated.\n",
    "    - model_name: Name or identifier for the machine learning model.\n",
    "    - total_CFs: Total number of counterfactuals to generate.\n",
    "\n",
    "    Returns:\n",
    "    List[dict]: List of dictionaries representing the counterfactual explanations.\n",
    "    \"\"\"\n",
    "\n",
    "    # Prepare outcome data with labels\n",
    "    outcome_X_train = X_train.copy()\n",
    "    outcome_X_train['isFraud'] = y_train\n",
    "\n",
    "    # Define features for DiCE\n",
    "    features = ['step', 'type', 'amount', 'oldbalanceOrg', 'bal_chg', 'orig_zero',\n",
    "                'amt_bal_ratio', 'chg_amt_ratio']\n",
    "\n",
    "    # Create DiCE data object\n",
    "    d = dice_ml.Data(dataframe=outcome_X_train, continuous_features=features,\n",
    "                     outcome_name='isFraud')\n",
    "\n",
    "    # Create DiCE model object\n",
    "    backend = 'sklearn'\n",
    "    m = dice_ml.Model(model=pipeline, backend=backend)\n",
    "\n",
    "    # Convert live_instance to a DataFrame if it's not already\n",
    "    if not isinstance(live_instance, pd.DataFrame):\n",
    "        live_instance = pd.DataFrame([live_instance], columns=X_train.columns)\n",
    "\n",
    "    print(f\"Counterfactual Explanation for {model_name} using Random Method\")\n",
    "\n",
    "    exp_random = dice_ml.Dice(d, m, method='random')\n",
    "    dice_exp_random = exp_random.generate_counterfactuals(live_instance, total_CFs=total_CFs, desired_class=\"opposite\", verbose=False)\n",
    "    \n",
    "    # Return the counterfactuals as a list of dictionaries\n",
    "    return dice_exp_random.visualize_as_list()\n"
   ]
  },
  {
   "cell_type": "code",
   "execution_count": 12,
   "id": "27e1434c-a46e-4870-8405-c44b1a1a8892",
   "metadata": {},
   "outputs": [],
   "source": [
    "from typing import List\n",
    "\n",
    "def cfe_live_v3(pipeline, X_train, y_train, live_instance, model_name, total_CFs=2):\n",
    "    \"\"\"\n",
    "    Generate counterfactual explanations for a given live instance using DiCE.\n",
    "\n",
    "    Parameters:\n",
    "    - pipeline: Trained machine learning model pipeline.\n",
    "    - X_train: Training data features.\n",
    "    - y_train: Training data labels.\n",
    "    - live_instance: The live instance for which counterfactual explanations are generated.\n",
    "    - model_name: Name or identifier for the machine learning model.\n",
    "    - total_CFs: Total number of counterfactuals to generate.\n",
    "\n",
    "    Returns:\n",
    "    List[dict]: List of dictionaries representing the counterfactual explanations.\n",
    "    \"\"\"\n",
    "\n",
    "    # Prepare outcome data with labels\n",
    "    outcome_X_train = X_train.copy()\n",
    "    outcome_X_train['isFraud'] = y_train\n",
    "\n",
    "    # Define features for DiCE\n",
    "    features = ['step', 'type', 'amount', 'oldbalanceOrg', 'bal_chg', 'orig_zero',\n",
    "                'amt_bal_ratio', 'chg_amt_ratio']\n",
    "\n",
    "    # Create DiCE data object\n",
    "    d = dice_ml.Data(dataframe=outcome_X_train, continuous_features=features,\n",
    "                     outcome_name='isFraud')\n",
    "\n",
    "    # Create DiCE model object\n",
    "    backend = 'sklearn'\n",
    "    m = dice_ml.Model(model=pipeline, backend=backend)\n",
    "\n",
    "    # Convert live_instance to a DataFrame if it's not already\n",
    "    if not isinstance(live_instance, pd.DataFrame):\n",
    "        live_instance = pd.DataFrame([live_instance], columns=X_train.columns)\n",
    "\n",
    "    print(f\"Counterfactual Explanation for {model_name} using Random Method\")\n",
    "\n",
    "    exp_random = dice_ml.Dice(d, m, method='random')\n",
    "    dice_exp_random = exp_random.generate_counterfactuals(live_instance, total_CFs=total_CFs, desired_class=\"opposite\", verbose=False)\n",
    "    \n",
    "    # Extract feature names from the DiCE data object\n",
    "    feature_names = d.feature_names\n",
    "\n",
    "    # Return the counterfactuals as a list of dictionaries with feature names\n",
    "    counterfactuals_with_names = dice_exp_random.visualize_as_list(include_feature_names=True, feature_names=feature_names)\n",
    "    return counterfactuals_with_names\n"
   ]
  },
  {
   "cell_type": "code",
   "execution_count": 47,
   "id": "857ff91f-16a5-48d2-9010-de555d4c6b54",
   "metadata": {},
   "outputs": [
    {
     "name": "stderr",
     "output_type": "stream",
     "text": [
      "100%|██████████| 1/1 [00:01<00:00,  1.74s/it]\n"
     ]
    },
    {
     "name": "stdout",
     "output_type": "stream",
     "text": [
      "Intercept 0.11195040142422825\n",
      "Prediction_local [0.12164046]\n",
      "Right: 5.560618618708582e-05\n",
      "<ul><li>The feature 'amt_bal_ratio' is considered in the model's classification as 'Legitimate'.</li><li>The feature 'bal_chg' is considered in the model's classification as 'Legitimate'.</li><li>The feature 'chg_amt_ratio' is considered in the model's classification as 'Legitimate'.</li><li>The feature 'oldbalanceOrg' is considered in the model's classification as 'Legitimate'.</li><li>The feature 'step' is considered in the model's classification as 'Legitimate'.</li><li>The feature 'amount' is considered in the model's classification as 'Legitimate'.</li><li>The feature 'orig_zero' is considered in the model's classification as 'Legitimate'.</li><li>The feature 'type' is not considered a significant factor in the model's classification as 'Legitimate'.</li><li>The model considers multiple features to assess each transaction, focusing on patterns that indicate potentially fraudulent or legitimate activity.</li></ul>\n",
      "{\"data\": [{\"hovertemplate\": \"type=Original<br>r=%{r}<br>theta=%{theta}<extra></extra>\", \"legendgroup\": \"Original\", \"line\": {\"color\": \"#fdca26\", \"dash\": \"solid\"}, \"marker\": {\"symbol\": \"circle\"}, \"mode\": \"lines\", \"name\": \"Original\", \"r\": [170.0, 1.0, 6509.0, 578.0, 6509.0, 0.0, 11.261245674740485, 1.0, 170.0], \"showlegend\": true, \"subplot\": \"polar\", \"theta\": [\"step\", \"type\", \"amount\", \"oldbalanceOrg\", \"bal_chg\", \"orig_zero\", \"amt_bal_ratio\", \"chg_amt_ratio\", \"step\"], \"type\": \"scatterpolar\"}, {\"hovertemplate\": \"type=Counterfactual<br>r=%{r}<br>theta=%{theta}<extra></extra>\", \"legendgroup\": \"Counterfactual\", \"line\": {\"color\": \"#fb9f3a\", \"dash\": \"solid\"}, \"marker\": {\"symbol\": \"circle\"}, \"mode\": \"lines\", \"name\": \"Counterfactual\", \"r\": [170.0, 1.0, 6509.0, 578.0, 6509.0, 0.0, 314832.5, -1.0, 170.0], \"showlegend\": true, \"subplot\": \"polar\", \"theta\": [\"step\", \"type\", \"amount\", \"oldbalanceOrg\", \"bal_chg\", \"orig_zero\", \"amt_bal_ratio\", \"chg_amt_ratio\", \"step\"], \"type\": \"scatterpolar\"}], \"layout\": {\"template\": {\"data\": {\"barpolar\": [{\"marker\": {\"line\": {\"color\": \"white\", \"width\": 0.5}, \"pattern\": {\"fillmode\": \"overlay\", \"size\": 10, \"solidity\": 0.2}}, \"type\": \"barpolar\"}], \"bar\": [{\"error_x\": {\"color\": \"#2a3f5f\"}, \"error_y\": {\"color\": \"#2a3f5f\"}, \"marker\": {\"line\": {\"color\": \"white\", \"width\": 0.5}, \"pattern\": {\"fillmode\": \"overlay\", \"size\": 10, \"solidity\": 0.2}}, \"type\": \"bar\"}], \"carpet\": [{\"aaxis\": {\"endlinecolor\": \"#2a3f5f\", \"gridcolor\": \"#C8D4E3\", \"linecolor\": \"#C8D4E3\", \"minorgridcolor\": \"#C8D4E3\", \"startlinecolor\": \"#2a3f5f\"}, \"baxis\": {\"endlinecolor\": \"#2a3f5f\", \"gridcolor\": \"#C8D4E3\", \"linecolor\": \"#C8D4E3\", \"minorgridcolor\": \"#C8D4E3\", \"startlinecolor\": \"#2a3f5f\"}, \"type\": \"carpet\"}], \"choropleth\": [{\"colorbar\": {\"outlinewidth\": 0, \"ticks\": \"\"}, \"type\": \"choropleth\"}], \"contourcarpet\": [{\"colorbar\": {\"outlinewidth\": 0, \"ticks\": \"\"}, \"type\": \"contourcarpet\"}], \"contour\": [{\"colorbar\": {\"outlinewidth\": 0, \"ticks\": \"\"}, \"colorscale\": [[0.0, \"#0d0887\"], [0.1111111111111111, \"#46039f\"], [0.2222222222222222, \"#7201a8\"], [0.3333333333333333, \"#9c179e\"], [0.4444444444444444, \"#bd3786\"], [0.5555555555555556, \"#d8576b\"], [0.6666666666666666, \"#ed7953\"], [0.7777777777777778, \"#fb9f3a\"], [0.8888888888888888, \"#fdca26\"], [1.0, \"#f0f921\"]], \"type\": \"contour\"}], \"heatmapgl\": [{\"colorbar\": {\"outlinewidth\": 0, \"ticks\": \"\"}, \"colorscale\": [[0.0, \"#0d0887\"], [0.1111111111111111, \"#46039f\"], [0.2222222222222222, \"#7201a8\"], [0.3333333333333333, \"#9c179e\"], [0.4444444444444444, \"#bd3786\"], [0.5555555555555556, \"#d8576b\"], [0.6666666666666666, \"#ed7953\"], [0.7777777777777778, \"#fb9f3a\"], [0.8888888888888888, \"#fdca26\"], [1.0, \"#f0f921\"]], \"type\": \"heatmapgl\"}], \"heatmap\": [{\"colorbar\": {\"outlinewidth\": 0, \"ticks\": \"\"}, \"colorscale\": [[0.0, \"#0d0887\"], [0.1111111111111111, \"#46039f\"], [0.2222222222222222, \"#7201a8\"], [0.3333333333333333, \"#9c179e\"], [0.4444444444444444, \"#bd3786\"], [0.5555555555555556, \"#d8576b\"], [0.6666666666666666, \"#ed7953\"], [0.7777777777777778, \"#fb9f3a\"], [0.8888888888888888, \"#fdca26\"], [1.0, \"#f0f921\"]], \"type\": \"heatmap\"}], \"histogram2dcontour\": [{\"colorbar\": {\"outlinewidth\": 0, \"ticks\": \"\"}, \"colorscale\": [[0.0, \"#0d0887\"], [0.1111111111111111, \"#46039f\"], [0.2222222222222222, \"#7201a8\"], [0.3333333333333333, \"#9c179e\"], [0.4444444444444444, \"#bd3786\"], [0.5555555555555556, \"#d8576b\"], [0.6666666666666666, \"#ed7953\"], [0.7777777777777778, \"#fb9f3a\"], [0.8888888888888888, \"#fdca26\"], [1.0, \"#f0f921\"]], \"type\": \"histogram2dcontour\"}], \"histogram2d\": [{\"colorbar\": {\"outlinewidth\": 0, \"ticks\": \"\"}, \"colorscale\": [[0.0, \"#0d0887\"], [0.1111111111111111, \"#46039f\"], [0.2222222222222222, \"#7201a8\"], [0.3333333333333333, \"#9c179e\"], [0.4444444444444444, \"#bd3786\"], [0.5555555555555556, \"#d8576b\"], [0.6666666666666666, \"#ed7953\"], [0.7777777777777778, \"#fb9f3a\"], [0.8888888888888888, \"#fdca26\"], [1.0, \"#f0f921\"]], \"type\": \"histogram2d\"}], \"histogram\": [{\"marker\": {\"pattern\": {\"fillmode\": \"overlay\", \"size\": 10, \"solidity\": 0.2}}, \"type\": \"histogram\"}], \"mesh3d\": [{\"colorbar\": {\"outlinewidth\": 0, \"ticks\": \"\"}, \"type\": \"mesh3d\"}], \"parcoords\": [{\"line\": {\"colorbar\": {\"outlinewidth\": 0, \"ticks\": \"\"}}, \"type\": \"parcoords\"}], \"pie\": [{\"automargin\": true, \"type\": \"pie\"}], \"scatter3d\": [{\"line\": {\"colorbar\": {\"outlinewidth\": 0, \"ticks\": \"\"}}, \"marker\": {\"colorbar\": {\"outlinewidth\": 0, \"ticks\": \"\"}}, \"type\": \"scatter3d\"}], \"scattercarpet\": [{\"marker\": {\"colorbar\": {\"outlinewidth\": 0, \"ticks\": \"\"}}, \"type\": \"scattercarpet\"}], \"scattergeo\": [{\"marker\": {\"colorbar\": {\"outlinewidth\": 0, \"ticks\": \"\"}}, \"type\": \"scattergeo\"}], \"scattergl\": [{\"marker\": {\"colorbar\": {\"outlinewidth\": 0, \"ticks\": \"\"}}, \"type\": \"scattergl\"}], \"scattermapbox\": [{\"marker\": {\"colorbar\": {\"outlinewidth\": 0, \"ticks\": \"\"}}, \"type\": \"scattermapbox\"}], \"scatterpolargl\": [{\"marker\": {\"colorbar\": {\"outlinewidth\": 0, \"ticks\": \"\"}}, \"type\": \"scatterpolargl\"}], \"scatterpolar\": [{\"marker\": {\"colorbar\": {\"outlinewidth\": 0, \"ticks\": \"\"}}, \"type\": \"scatterpolar\"}], \"scatter\": [{\"fillpattern\": {\"fillmode\": \"overlay\", \"size\": 10, \"solidity\": 0.2}, \"type\": \"scatter\"}], \"scatterternary\": [{\"marker\": {\"colorbar\": {\"outlinewidth\": 0, \"ticks\": \"\"}}, \"type\": \"scatterternary\"}], \"surface\": [{\"colorbar\": {\"outlinewidth\": 0, \"ticks\": \"\"}, \"colorscale\": [[0.0, \"#0d0887\"], [0.1111111111111111, \"#46039f\"], [0.2222222222222222, \"#7201a8\"], [0.3333333333333333, \"#9c179e\"], [0.4444444444444444, \"#bd3786\"], [0.5555555555555556, \"#d8576b\"], [0.6666666666666666, \"#ed7953\"], [0.7777777777777778, \"#fb9f3a\"], [0.8888888888888888, \"#fdca26\"], [1.0, \"#f0f921\"]], \"type\": \"surface\"}], \"table\": [{\"cells\": {\"fill\": {\"color\": \"#EBF0F8\"}, \"line\": {\"color\": \"white\"}}, \"header\": {\"fill\": {\"color\": \"#C8D4E3\"}, \"line\": {\"color\": \"white\"}}, \"type\": \"table\"}]}, \"layout\": {\"annotationdefaults\": {\"arrowcolor\": \"#2a3f5f\", \"arrowhead\": 0, \"arrowwidth\": 1}, \"autotypenumbers\": \"strict\", \"coloraxis\": {\"colorbar\": {\"outlinewidth\": 0, \"ticks\": \"\"}}, \"colorscale\": {\"diverging\": [[0, \"#8e0152\"], [0.1, \"#c51b7d\"], [0.2, \"#de77ae\"], [0.3, \"#f1b6da\"], [0.4, \"#fde0ef\"], [0.5, \"#f7f7f7\"], [0.6, \"#e6f5d0\"], [0.7, \"#b8e186\"], [0.8, \"#7fbc41\"], [0.9, \"#4d9221\"], [1, \"#276419\"]], \"sequential\": [[0.0, \"#0d0887\"], [0.1111111111111111, \"#46039f\"], [0.2222222222222222, \"#7201a8\"], [0.3333333333333333, \"#9c179e\"], [0.4444444444444444, \"#bd3786\"], [0.5555555555555556, \"#d8576b\"], [0.6666666666666666, \"#ed7953\"], [0.7777777777777778, \"#fb9f3a\"], [0.8888888888888888, \"#fdca26\"], [1.0, \"#f0f921\"]], \"sequentialminus\": [[0.0, \"#0d0887\"], [0.1111111111111111, \"#46039f\"], [0.2222222222222222, \"#7201a8\"], [0.3333333333333333, \"#9c179e\"], [0.4444444444444444, \"#bd3786\"], [0.5555555555555556, \"#d8576b\"], [0.6666666666666666, \"#ed7953\"], [0.7777777777777778, \"#fb9f3a\"], [0.8888888888888888, \"#fdca26\"], [1.0, \"#f0f921\"]]}, \"colorway\": [\"#636efa\", \"#EF553B\", \"#00cc96\", \"#ab63fa\", \"#FFA15A\", \"#19d3f3\", \"#FF6692\", \"#B6E880\", \"#FF97FF\", \"#FECB52\"], \"font\": {\"color\": \"#2a3f5f\"}, \"geo\": {\"bgcolor\": \"white\", \"lakecolor\": \"white\", \"landcolor\": \"white\", \"showlakes\": true, \"showland\": true, \"subunitcolor\": \"#C8D4E3\"}, \"hoverlabel\": {\"align\": \"left\"}, \"hovermode\": \"closest\", \"mapbox\": {\"style\": \"light\"}, \"paper_bgcolor\": \"white\", \"plot_bgcolor\": \"white\", \"polar\": {\"angularaxis\": {\"gridcolor\": \"#EBF0F8\", \"linecolor\": \"#EBF0F8\", \"ticks\": \"\"}, \"bgcolor\": \"white\", \"radialaxis\": {\"gridcolor\": \"#EBF0F8\", \"linecolor\": \"#EBF0F8\", \"ticks\": \"\"}}, \"scene\": {\"xaxis\": {\"backgroundcolor\": \"white\", \"gridcolor\": \"#DFE8F3\", \"gridwidth\": 2, \"linecolor\": \"#EBF0F8\", \"showbackground\": true, \"ticks\": \"\", \"zerolinecolor\": \"#EBF0F8\"}, \"yaxis\": {\"backgroundcolor\": \"white\", \"gridcolor\": \"#DFE8F3\", \"gridwidth\": 2, \"linecolor\": \"#EBF0F8\", \"showbackground\": true, \"ticks\": \"\", \"zerolinecolor\": \"#EBF0F8\"}, \"zaxis\": {\"backgroundcolor\": \"white\", \"gridcolor\": \"#DFE8F3\", \"gridwidth\": 2, \"linecolor\": \"#EBF0F8\", \"showbackground\": true, \"ticks\": \"\", \"zerolinecolor\": \"#EBF0F8\"}}, \"shapedefaults\": {\"line\": {\"color\": \"#2a3f5f\"}}, \"ternary\": {\"aaxis\": {\"gridcolor\": \"#DFE8F3\", \"linecolor\": \"#A2B1C6\", \"ticks\": \"\"}, \"baxis\": {\"gridcolor\": \"#DFE8F3\", \"linecolor\": \"#A2B1C6\", \"ticks\": \"\"}, \"bgcolor\": \"white\", \"caxis\": {\"gridcolor\": \"#DFE8F3\", \"linecolor\": \"#A2B1C6\", \"ticks\": \"\"}}, \"title\": {\"x\": 0.05}, \"xaxis\": {\"automargin\": true, \"gridcolor\": \"#EBF0F8\", \"linecolor\": \"#EBF0F8\", \"ticks\": \"\", \"title\": {\"standoff\": 15}, \"zerolinecolor\": \"#EBF0F8\", \"zerolinewidth\": 2}, \"yaxis\": {\"automargin\": true, \"gridcolor\": \"#EBF0F8\", \"linecolor\": \"#EBF0F8\", \"ticks\": \"\", \"title\": {\"standoff\": 15}, \"zerolinecolor\": \"#EBF0F8\", \"zerolinewidth\": 2}}}, \"polar\": {\"domain\": {\"x\": [0.0, 1.0], \"y\": [0.0, 1.0]}, \"angularaxis\": {\"direction\": \"clockwise\", \"rotation\": 90}, \"radialaxis\": {\"visible\": true}}, \"legend\": {\"title\": {\"text\": \"type\"}, \"tracegroupgap\": 0}, \"margin\": {\"t\": 40, \"l\": 20, \"r\": 20, \"b\": 20}, \"title\": {\"text\": \"Counterfactual Explanations Radar Chart\"}, \"autosize\": true}}\n",
      "{\"data\": [{\"alignmentgroup\": \"True\", \"hovertemplate\": \"Type=Original<br>Feature=%{x}<br>Value=%{y}<extra></extra>\", \"legendgroup\": \"Original\", \"marker\": {\"color\": \"#636efa\", \"pattern\": {\"shape\": \"\"}}, \"name\": \"Original\", \"offsetgroup\": \"Original\", \"orientation\": \"v\", \"showlegend\": true, \"textposition\": \"auto\", \"x\": [\"amt_bal_ratio\", \"chg_amt_ratio\"], \"xaxis\": \"x\", \"y\": [11.261245674740485, 1.0], \"yaxis\": \"y\", \"type\": \"bar\"}, {\"alignmentgroup\": \"True\", \"hovertemplate\": \"Type=Counterfactual<br>Feature=%{x}<br>Value=%{y}<extra></extra>\", \"legendgroup\": \"Counterfactual\", \"marker\": {\"color\": \"#EF553B\", \"pattern\": {\"shape\": \"\"}}, \"name\": \"Counterfactual\", \"offsetgroup\": \"Counterfactual\", \"orientation\": \"v\", \"showlegend\": true, \"textposition\": \"auto\", \"x\": [\"amt_bal_ratio\", \"chg_amt_ratio\"], \"xaxis\": \"x\", \"y\": [314832.5, -1.0], \"yaxis\": \"y\", \"type\": \"bar\"}], \"layout\": {\"template\": {\"data\": {\"histogram2dcontour\": [{\"type\": \"histogram2dcontour\", \"colorbar\": {\"outlinewidth\": 0, \"ticks\": \"\"}, \"colorscale\": [[0.0, \"#0d0887\"], [0.1111111111111111, \"#46039f\"], [0.2222222222222222, \"#7201a8\"], [0.3333333333333333, \"#9c179e\"], [0.4444444444444444, \"#bd3786\"], [0.5555555555555556, \"#d8576b\"], [0.6666666666666666, \"#ed7953\"], [0.7777777777777778, \"#fb9f3a\"], [0.8888888888888888, \"#fdca26\"], [1.0, \"#f0f921\"]]}], \"choropleth\": [{\"type\": \"choropleth\", \"colorbar\": {\"outlinewidth\": 0, \"ticks\": \"\"}}], \"histogram2d\": [{\"type\": \"histogram2d\", \"colorbar\": {\"outlinewidth\": 0, \"ticks\": \"\"}, \"colorscale\": [[0.0, \"#0d0887\"], [0.1111111111111111, \"#46039f\"], [0.2222222222222222, \"#7201a8\"], [0.3333333333333333, \"#9c179e\"], [0.4444444444444444, \"#bd3786\"], [0.5555555555555556, \"#d8576b\"], [0.6666666666666666, \"#ed7953\"], [0.7777777777777778, \"#fb9f3a\"], [0.8888888888888888, \"#fdca26\"], [1.0, \"#f0f921\"]]}], \"heatmap\": [{\"type\": \"heatmap\", \"colorbar\": {\"outlinewidth\": 0, \"ticks\": \"\"}, \"colorscale\": [[0.0, \"#0d0887\"], [0.1111111111111111, \"#46039f\"], [0.2222222222222222, \"#7201a8\"], [0.3333333333333333, \"#9c179e\"], [0.4444444444444444, \"#bd3786\"], [0.5555555555555556, \"#d8576b\"], [0.6666666666666666, \"#ed7953\"], [0.7777777777777778, \"#fb9f3a\"], [0.8888888888888888, \"#fdca26\"], [1.0, \"#f0f921\"]]}], \"heatmapgl\": [{\"type\": \"heatmapgl\", \"colorbar\": {\"outlinewidth\": 0, \"ticks\": \"\"}, \"colorscale\": [[0.0, \"#0d0887\"], [0.1111111111111111, \"#46039f\"], [0.2222222222222222, \"#7201a8\"], [0.3333333333333333, \"#9c179e\"], [0.4444444444444444, \"#bd3786\"], [0.5555555555555556, \"#d8576b\"], [0.6666666666666666, \"#ed7953\"], [0.7777777777777778, \"#fb9f3a\"], [0.8888888888888888, \"#fdca26\"], [1.0, \"#f0f921\"]]}], \"contourcarpet\": [{\"type\": \"contourcarpet\", \"colorbar\": {\"outlinewidth\": 0, \"ticks\": \"\"}}], \"contour\": [{\"type\": \"contour\", \"colorbar\": {\"outlinewidth\": 0, \"ticks\": \"\"}, \"colorscale\": [[0.0, \"#0d0887\"], [0.1111111111111111, \"#46039f\"], [0.2222222222222222, \"#7201a8\"], [0.3333333333333333, \"#9c179e\"], [0.4444444444444444, \"#bd3786\"], [0.5555555555555556, \"#d8576b\"], [0.6666666666666666, \"#ed7953\"], [0.7777777777777778, \"#fb9f3a\"], [0.8888888888888888, \"#fdca26\"], [1.0, \"#f0f921\"]]}], \"surface\": [{\"type\": \"surface\", \"colorbar\": {\"outlinewidth\": 0, \"ticks\": \"\"}, \"colorscale\": [[0.0, \"#0d0887\"], [0.1111111111111111, \"#46039f\"], [0.2222222222222222, \"#7201a8\"], [0.3333333333333333, \"#9c179e\"], [0.4444444444444444, \"#bd3786\"], [0.5555555555555556, \"#d8576b\"], [0.6666666666666666, \"#ed7953\"], [0.7777777777777778, \"#fb9f3a\"], [0.8888888888888888, \"#fdca26\"], [1.0, \"#f0f921\"]]}], \"mesh3d\": [{\"type\": \"mesh3d\", \"colorbar\": {\"outlinewidth\": 0, \"ticks\": \"\"}}], \"scatter\": [{\"fillpattern\": {\"fillmode\": \"overlay\", \"size\": 10, \"solidity\": 0.2}, \"type\": \"scatter\"}], \"parcoords\": [{\"type\": \"parcoords\", \"line\": {\"colorbar\": {\"outlinewidth\": 0, \"ticks\": \"\"}}}], \"scatterpolargl\": [{\"type\": \"scatterpolargl\", \"marker\": {\"colorbar\": {\"outlinewidth\": 0, \"ticks\": \"\"}}}], \"bar\": [{\"error_x\": {\"color\": \"#2a3f5f\"}, \"error_y\": {\"color\": \"#2a3f5f\"}, \"marker\": {\"line\": {\"color\": \"#E5ECF6\", \"width\": 0.5}, \"pattern\": {\"fillmode\": \"overlay\", \"size\": 10, \"solidity\": 0.2}}, \"type\": \"bar\"}], \"scattergeo\": [{\"type\": \"scattergeo\", \"marker\": {\"colorbar\": {\"outlinewidth\": 0, \"ticks\": \"\"}}}], \"scatterpolar\": [{\"type\": \"scatterpolar\", \"marker\": {\"colorbar\": {\"outlinewidth\": 0, \"ticks\": \"\"}}}], \"histogram\": [{\"marker\": {\"pattern\": {\"fillmode\": \"overlay\", \"size\": 10, \"solidity\": 0.2}}, \"type\": \"histogram\"}], \"scattergl\": [{\"type\": \"scattergl\", \"marker\": {\"colorbar\": {\"outlinewidth\": 0, \"ticks\": \"\"}}}], \"scatter3d\": [{\"type\": \"scatter3d\", \"line\": {\"colorbar\": {\"outlinewidth\": 0, \"ticks\": \"\"}}, \"marker\": {\"colorbar\": {\"outlinewidth\": 0, \"ticks\": \"\"}}}], \"scattermapbox\": [{\"type\": \"scattermapbox\", \"marker\": {\"colorbar\": {\"outlinewidth\": 0, \"ticks\": \"\"}}}], \"scatterternary\": [{\"type\": \"scatterternary\", \"marker\": {\"colorbar\": {\"outlinewidth\": 0, \"ticks\": \"\"}}}], \"scattercarpet\": [{\"type\": \"scattercarpet\", \"marker\": {\"colorbar\": {\"outlinewidth\": 0, \"ticks\": \"\"}}}], \"carpet\": [{\"aaxis\": {\"endlinecolor\": \"#2a3f5f\", \"gridcolor\": \"white\", \"linecolor\": \"white\", \"minorgridcolor\": \"white\", \"startlinecolor\": \"#2a3f5f\"}, \"baxis\": {\"endlinecolor\": \"#2a3f5f\", \"gridcolor\": \"white\", \"linecolor\": \"white\", \"minorgridcolor\": \"white\", \"startlinecolor\": \"#2a3f5f\"}, \"type\": \"carpet\"}], \"table\": [{\"cells\": {\"fill\": {\"color\": \"#EBF0F8\"}, \"line\": {\"color\": \"white\"}}, \"header\": {\"fill\": {\"color\": \"#C8D4E3\"}, \"line\": {\"color\": \"white\"}}, \"type\": \"table\"}], \"barpolar\": [{\"marker\": {\"line\": {\"color\": \"#E5ECF6\", \"width\": 0.5}, \"pattern\": {\"fillmode\": \"overlay\", \"size\": 10, \"solidity\": 0.2}}, \"type\": \"barpolar\"}], \"pie\": [{\"automargin\": true, \"type\": \"pie\"}]}, \"layout\": {\"autotypenumbers\": \"strict\", \"colorway\": [\"#636efa\", \"#EF553B\", \"#00cc96\", \"#ab63fa\", \"#FFA15A\", \"#19d3f3\", \"#FF6692\", \"#B6E880\", \"#FF97FF\", \"#FECB52\"], \"font\": {\"color\": \"#2a3f5f\"}, \"hovermode\": \"closest\", \"hoverlabel\": {\"align\": \"left\"}, \"paper_bgcolor\": \"white\", \"plot_bgcolor\": \"#E5ECF6\", \"polar\": {\"bgcolor\": \"#E5ECF6\", \"angularaxis\": {\"gridcolor\": \"white\", \"linecolor\": \"white\", \"ticks\": \"\"}, \"radialaxis\": {\"gridcolor\": \"white\", \"linecolor\": \"white\", \"ticks\": \"\"}}, \"ternary\": {\"bgcolor\": \"#E5ECF6\", \"aaxis\": {\"gridcolor\": \"white\", \"linecolor\": \"white\", \"ticks\": \"\"}, \"baxis\": {\"gridcolor\": \"white\", \"linecolor\": \"white\", \"ticks\": \"\"}, \"caxis\": {\"gridcolor\": \"white\", \"linecolor\": \"white\", \"ticks\": \"\"}}, \"coloraxis\": {\"colorbar\": {\"outlinewidth\": 0, \"ticks\": \"\"}}, \"colorscale\": {\"sequential\": [[0.0, \"#0d0887\"], [0.1111111111111111, \"#46039f\"], [0.2222222222222222, \"#7201a8\"], [0.3333333333333333, \"#9c179e\"], [0.4444444444444444, \"#bd3786\"], [0.5555555555555556, \"#d8576b\"], [0.6666666666666666, \"#ed7953\"], [0.7777777777777778, \"#fb9f3a\"], [0.8888888888888888, \"#fdca26\"], [1.0, \"#f0f921\"]], \"sequentialminus\": [[0.0, \"#0d0887\"], [0.1111111111111111, \"#46039f\"], [0.2222222222222222, \"#7201a8\"], [0.3333333333333333, \"#9c179e\"], [0.4444444444444444, \"#bd3786\"], [0.5555555555555556, \"#d8576b\"], [0.6666666666666666, \"#ed7953\"], [0.7777777777777778, \"#fb9f3a\"], [0.8888888888888888, \"#fdca26\"], [1.0, \"#f0f921\"]], \"diverging\": [[0, \"#8e0152\"], [0.1, \"#c51b7d\"], [0.2, \"#de77ae\"], [0.3, \"#f1b6da\"], [0.4, \"#fde0ef\"], [0.5, \"#f7f7f7\"], [0.6, \"#e6f5d0\"], [0.7, \"#b8e186\"], [0.8, \"#7fbc41\"], [0.9, \"#4d9221\"], [1, \"#276419\"]]}, \"xaxis\": {\"gridcolor\": \"white\", \"linecolor\": \"white\", \"ticks\": \"\", \"title\": {\"standoff\": 15}, \"zerolinecolor\": \"white\", \"automargin\": true, \"zerolinewidth\": 2}, \"yaxis\": {\"gridcolor\": \"white\", \"linecolor\": \"white\", \"ticks\": \"\", \"title\": {\"standoff\": 15}, \"zerolinecolor\": \"white\", \"automargin\": true, \"zerolinewidth\": 2}, \"scene\": {\"xaxis\": {\"backgroundcolor\": \"#E5ECF6\", \"gridcolor\": \"white\", \"linecolor\": \"white\", \"showbackground\": true, \"ticks\": \"\", \"zerolinecolor\": \"white\", \"gridwidth\": 2}, \"yaxis\": {\"backgroundcolor\": \"#E5ECF6\", \"gridcolor\": \"white\", \"linecolor\": \"white\", \"showbackground\": true, \"ticks\": \"\", \"zerolinecolor\": \"white\", \"gridwidth\": 2}, \"zaxis\": {\"backgroundcolor\": \"#E5ECF6\", \"gridcolor\": \"white\", \"linecolor\": \"white\", \"showbackground\": true, \"ticks\": \"\", \"zerolinecolor\": \"white\", \"gridwidth\": 2}}, \"shapedefaults\": {\"line\": {\"color\": \"#2a3f5f\"}}, \"annotationdefaults\": {\"arrowcolor\": \"#2a3f5f\", \"arrowhead\": 0, \"arrowwidth\": 1}, \"geo\": {\"bgcolor\": \"white\", \"landcolor\": \"#E5ECF6\", \"subunitcolor\": \"white\", \"showland\": true, \"showlakes\": true, \"lakecolor\": \"white\"}, \"title\": {\"x\": 0.05}, \"mapbox\": {\"style\": \"light\"}}}, \"xaxis\": {\"anchor\": \"y\", \"domain\": [0.0, 1.0], \"title\": {\"text\": \"Feature\"}}, \"yaxis\": {\"anchor\": \"x\", \"domain\": [0.0, 1.0], \"title\": {\"text\": \"Value\"}}, \"legend\": {\"title\": {\"text\": \"Type\"}, \"tracegroupgap\": 0}, \"title\": {\"text\": \"Counterfactual Explanations\"}, \"barmode\": \"group\"}}\n",
      "<p>To change the model's prediction, consider the following adjustments:</p><ul><li>Change <strong>amt_bal_ratio</strong> by 2795616.47% (from 11.261245674740485 to 314832.5).</li><li>Change <strong>chg_amt_ratio</strong> by -200.00% (from 1.0 to -1.0).</li></ul>\n"
     ]
    }
   ],
   "source": [
    "cf_as_dict, original_instance = cf_explanations(pipeline, X_train, y_train, live_df, model_name, total_CFs=1)\n",
    "lime_explanation_html = interpret_lime_results_v5(pipeline, X_train, live_df, model_name)\n",
    "radial_plot_html = visualize_counterfactuals_radar_plotly(cf_as_dict, original_instance)\n",
    "bar_chart_html = visualize_counterfactuals_plotly(original_instance, cf_as_dict)\n",
    "narrative_html = explain_counterfactual_percentage(original_instance, cf_as_dict)\n",
    "\n",
    "print(lime_explanation_html)\n",
    "print(radial_plot_html)\n",
    "print(bar_chart_html)\n",
    "print(narrative_html)"
   ]
  },
  {
   "cell_type": "code",
   "execution_count": null,
   "id": "405df74b-7431-4594-a418-d9e930729de1",
   "metadata": {},
   "outputs": [],
   "source": []
  }
 ],
 "metadata": {
  "kernelspec": {
   "display_name": "Python 3 (ipykernel)",
   "language": "python",
   "name": "python3"
  },
  "language_info": {
   "codemirror_mode": {
    "name": "ipython",
    "version": 3
   },
   "file_extension": ".py",
   "mimetype": "text/x-python",
   "name": "python",
   "nbconvert_exporter": "python",
   "pygments_lexer": "ipython3",
   "version": "3.11.5"
  }
 },
 "nbformat": 4,
 "nbformat_minor": 5
}
